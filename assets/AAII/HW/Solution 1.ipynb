{
 "cells": [
  {
   "cell_type": "markdown",
   "metadata": {},
   "source": [
    "# HW 1"
   ]
  },
  {
   "cell_type": "markdown",
   "metadata": {},
   "source": [
    "## Problem 1"
   ]
  },
  {
   "cell_type": "markdown",
   "metadata": {},
   "source": [
    "### 1."
   ]
  },
  {
   "cell_type": "markdown",
   "metadata": {},
   "source": [
    "Potential energy \n",
    "\\begin{equation}\n",
    "E_{P}=\\frac{GM_\\oplus m}{r}\n",
    "\\end{equation}\n",
    "\n",
    "From force balance in a circular Keplerian motion,\n",
    "\\begin{equation}\n",
    "\\frac{mv^2}{r} = \\frac{GM_\\oplus m}{r^2}\n",
    "\\end{equation}\n",
    "i.e., \n",
    "\\begin{equation}\n",
    "v^2 = \\frac{GM_\\oplus m}{r}\n",
    "\\end{equation}\n",
    "\n",
    "The kinetic energy is \n",
    "\\begin{equation}\n",
    "E_{K}=\\frac{1}{2}mv^2 = \\frac{GM_\\oplus m}{2r}\n",
    "\\end{equation}\n",
    "\n",
    "Hence, the total energy is \n",
    "\\begin{equation}\n",
    "E_{T}=E_{P} + E_{K} = -\\frac{GM_\\oplus m}{2r}\n",
    "\\end{equation}"
   ]
  },
  {
   "cell_type": "markdown",
   "metadata": {},
   "source": [
    "### 2."
   ]
  },
  {
   "cell_type": "markdown",
   "metadata": {},
   "source": [
    "Since drag force is a dissipative force, it drains energy from the orbit. Which means that the satellite gets more bound, i.e., its orbit shrinks. Also, since the change is slow, we assume that the satellite moves from one Keplerian orbit to another Keplerian orbit. Hence, the above expressions for energies are always valid. \n",
    "\n",
    "Thus, \n",
    "\\begin{equation}\n",
    "\\delta E_K(r) = -\\delta E_T = \\delta\\left(\\frac{GM_\\oplus m}{2r}\\right) =  -\\frac{GM_\\oplus m}{2r^2}\\delta r\n",
    "\\end{equation}\n",
    "\n",
    "Since, $\\delta r$ is -ve due to the drag force, $\\delta E_K$ is +ve. In other words, while $E_T$ decreases, $E_P$ decreases at a faster rate, thus increasing $E_K$. "
   ]
  },
  {
   "cell_type": "markdown",
   "metadata": {},
   "source": [
    "## Problem 2"
   ]
  },
  {
   "cell_type": "markdown",
   "metadata": {},
   "source": [
    "### 1."
   ]
  },
  {
   "cell_type": "code",
   "execution_count": 13,
   "metadata": {},
   "outputs": [],
   "source": [
    "AU = 1.496e13\n",
    "PC = 3.086e18\n",
    "lightyear = 9.463e17\n",
    "Msun = 1.99e33\n",
    "Rsun = 6.96e10\n",
    "Lsun = 3.9e33\n",
    "Tsun = 5.780e3\n",
    "km = 1e5\n",
    "yr = 31556925.9936\n",
    "G = 6.67259e-8\n",
    "import numpy as np"
   ]
  },
  {
   "cell_type": "code",
   "execution_count": 3,
   "metadata": {},
   "outputs": [],
   "source": [
    "def get_Rstar(Mstar):\n",
    "    \"\"\"Given mass in Msun returns radius in Rsun\"\"\"\n",
    "    return Mstar**(0.7)"
   ]
  },
  {
   "cell_type": "code",
   "execution_count": 11,
   "metadata": {},
   "outputs": [],
   "source": [
    "def get_gamma(sigma, n, v):\n",
    "    \"\"\"Given number density (n/pc^-3), cross-section (sigma/Rsun^2), and \n",
    "    velocity at infinity (v/kms^-1) returns rate in per Myr. \"\"\"\n",
    "    k = PC**-3. * Rsun**2 * km \n",
    "    gamma = k * (n*sigma*v) #rate per second\n",
    "    gamma = gamma*yr*1e6 #rate per Myr\n",
    "    return Gamma"
   ]
  },
  {
   "cell_type": "code",
   "execution_count": 18,
   "metadata": {},
   "outputs": [],
   "source": [
    "def get_gravfoc(m1, m2, v):\n",
    "    \"\"\"Input: masses m1/msun, m2/msun\n",
    "              velocity at infinity v/kms^-1\n",
    "        Returns: gravitational focusing\n",
    "    \"\"\"\n",
    "    gravfoc = (2.*G*(m1+m2)*Msun) / (rp*Rsun*(v*km)**2.) + 1\n",
    "    return gravfoc\n",
    "\n",
    "def get_sigma(rp, gravfoc, v):\n",
    "    \"\"\"Input: pericenter (rp/Rsun)\n",
    "              gravitational focusing term gravfoc\n",
    "              velocity at infinity v/kms^-1\n",
    "        Returns: cross-section/Rsun^2\n",
    "    \"\"\"\n",
    "    sigma = np.pi * (rp*Rsun)**2. * gravfoc #cross-section in cm^2\n",
    "    sigma = sigma/Rsun**2.\n",
    "    return sigma"
   ]
  },
  {
   "cell_type": "markdown",
   "metadata": {},
   "source": [
    "(a)"
   ]
  },
  {
   "cell_type": "markdown",
   "metadata": {},
   "source": [
    "Based on the notes from the class, the interaction rate per star is\n",
    "\\begin{equation}\n",
    "\\Gamma = n\\sigma v_\\infty = n v_\\infty \\pi b^2 = n v_\\infty \\pi r_p^2 \\left(1+\\frac{2Gm_T}{r_p v_\\infty^2}\\right) \n",
    "\\end{equation}"
   ]
  },
  {
   "cell_type": "code",
   "execution_count": 25,
   "metadata": {},
   "outputs": [
    {
     "name": "stdout",
     "output_type": "stream",
     "text": [
      "7.67878760061956e-06\n"
     ]
    }
   ],
   "source": [
    "N = 1e5\n",
    "m, m1, m2 = 0.5, 0.5, 0.5\n",
    "n, vinf = 1e5, 10.\n",
    "R1, R2 = get_Rstar(m1), get_Rstar(m2)\n",
    "rp = R1+R2\n",
    "gravfoc = get_gravfoc(m1, m2, vinf)\n",
    "sigma = get_sigma(rp, gravfoc, vinf)\n",
    "gamma = get_gamma(sigma, n, vinf)\n",
    "print (gamma)"
   ]
  },
  {
   "cell_type": "code",
   "execution_count": 21,
   "metadata": {},
   "outputs": [
    {
     "data": {
      "text/plain": [
       "0.767878760061956"
      ]
     },
     "execution_count": 21,
     "metadata": {},
     "output_type": "execute_result"
    }
   ],
   "source": [
    "7.67878760061956e-06*1e5"
   ]
  },
  {
   "cell_type": "markdown",
   "metadata": {},
   "source": [
    "The per-star collision rate is \n",
    "\\begin{equation}\n",
    "\\Gamma = 7.7\\times10^{-6}\\,{\\rm Myr}^{-1}.\n",
    "\\end{equation}"
   ]
  },
  {
   "cell_type": "markdown",
   "metadata": {},
   "source": [
    "(b)"
   ]
  },
  {
   "cell_type": "markdown",
   "metadata": {},
   "source": [
    "The total collision rate is simply \n",
    "\\begin{equation}\n",
    "N\\Gamma = 0.77\\,{\\rm Myr}^{-1}.\n",
    "\\end{equation}\n",
    "\n",
    "Note that the single-single physical collisions is not very frequent in a star cluster. "
   ]
  },
  {
   "cell_type": "markdown",
   "metadata": {},
   "source": [
    "(c)"
   ]
  },
  {
   "cell_type": "markdown",
   "metadata": {},
   "source": [
    "If gravitational focusing is ignored, then all numbers will be scaled by the gravitational focusing term."
   ]
  },
  {
   "cell_type": "code",
   "execution_count": 23,
   "metadata": {},
   "outputs": [
    {
     "name": "stdout",
     "output_type": "stream",
     "text": [
      "3100.2690122503686 2.4768133249978254e-09 0.00024768133249978257\n"
     ]
    }
   ],
   "source": [
    "print (gravfoc, gamma/gravfoc, 1e5*gamma/gravfoc)"
   ]
  },
  {
   "cell_type": "markdown",
   "metadata": {},
   "source": [
    "The gravitational focusing term $\\sim 3\\times10^3>>1$. Thus the gravitational focusing term dominates in the cross -section. Note that, because of the low velocity dispersion in star clusters compared to $2GM/r \\equiv v^2_{\\rm{esc}}$, the scaling for cross-section goes as $\\sigma\\sim1/v_\\infty$ and NOT $\\sigma\\sim v_\\infty$. The latter occurs only when $v_\\infty>>v_{\\rm esc}$. This can occur in the centers of galaxies. "
   ]
  },
  {
   "cell_type": "markdown",
   "metadata": {},
   "source": [
    "### 2."
   ]
  },
  {
   "cell_type": "markdown",
   "metadata": {},
   "source": [
    "For binary-single, per binary cross-section is \n",
    "\\begin{equation}\n",
    "\\Gamma_{\\rm{BS}}=n_s\\sigma_{\\rm BS} v_\\infty = n_s v_\\infty \\pi b^2 = n_s v_\\infty \\pi r_p^2 \\left(1+\\frac{2Gm_T}{r_p v_\\infty^2}\\right) = n_s v_\\infty \\pi (a+R_\\star)^2 \\left(1+\\frac{2Gm_T}{a v_\\infty^2}\\right), \n",
    "\\end{equation}\n",
    "where, $a$ is the semimajor axis of the binary, $n_s$ is the number density of single stars, and $R_\\star$ is the single star's radius. $\\Gamma_{\\rm BS}$ is the binary-single interaction rate per binary. \n",
    "\n",
    "The total interaction rate would be $N_b \\Gamma_{\\rm{BS}}$, where $N_b$ is the number of binaries. \n",
    "\n",
    "Similarly, for binary-single interaction, \n",
    "\\begin{equation}\n",
    "\\Gamma_{\\rm{BB}}=n_b\\sigma_{\\rm BB} v_\\infty = n_b v_\\infty \\pi b^2 = n_b v_\\infty \\pi r_p^2 \\left(1+\\frac{2Gm_T}{r_p v_\\infty^2}\\right) = n_b v_\\infty \\pi (a_1+a_2)^2 \\left(1+\\frac{2Gm_T}{(a_1+a_2) v_\\infty^2}\\right), \n",
    "\\end{equation}\n",
    "where, $a_1$, $a_2$ are the semimajor axes of the binaries, $n_b$ is the number density of binaries. \n",
    "\n",
    "Putting in values:"
   ]
  },
  {
   "cell_type": "code",
   "execution_count": 27,
   "metadata": {},
   "outputs": [
    {
     "name": "stdout",
     "output_type": "stream",
     "text": [
      "0.3177535614315552 3177.535614315552 0.18721442367197993 1872.1442367197994\n"
     ]
    }
   ],
   "source": [
    "ns, nb = n*0.9, n*0.1\n",
    "Ns, Nb = N*0.9, N*0.1\n",
    "a, a1, a2 = AU/Rsun, AU/Rsun, AU/Rsun\n",
    "#\n",
    "gravfoc = get_gravfoc(2*m1, m2, vinf)\n",
    "sigma_bs = get_sigma(a+R1, gravfoc, vinf)\n",
    "gamma_bs = get_gamma(sigma_bs, ns, vinf)\n",
    "gamma_bstot = Nb*gamma_bs\n",
    "#\n",
    "gravfoc = get_gravfoc(2*m1, 2*m2, vinf)\n",
    "sigma_bb = get_sigma(a1+a2, gravfoc, vinf)\n",
    "gamma_bb = get_gamma(sigma_bb, nb, vinf)\n",
    "gamma_bbtot = Nb*gamma_bb\n",
    "#\n",
    "print (gamma_bs, gamma_bstot, gamma_bb, gamma_bbtot)"
   ]
  },
  {
   "cell_type": "markdown",
   "metadata": {},
   "source": [
    "\\begin{eqnarray}\n",
    "\\Gamma_{\\rm BS}&=&0.3\\,\\rm{Myr}^{-1}\\\\\n",
    "N_b\\Gamma_{\\rm BS}&=&3\\times10^3\\,\\rm{Myr}^{-1}\\\\\n",
    "\\Gamma_{\\rm BB}&=&0.2\\,\\rm{Myr}^{-1}\\\\\n",
    "N_b\\Gamma_{\\rm BB}&=&2\\times10^3\\,\\rm{Myr}^{-1}$\n",
    "\\end{eqnarray}\n",
    "Thus, the interaction rates for binary-single and binary-binary encounters are much more frequent in a star cluster, simply because of the much higher cross-section of a binary. This usually overcomes the typically low numbers of binaries. Also note that based on the binary fraction $f_b$ (e.g., here we assumed $f_b=10\\%$), binary-single or binary-binary interactions may dominate. In addition, for the regime where the gravitational focusing terms is large, these interactions often lead to physical collisions between stars since the interactions take very long to complete and stars can keep coming back to each other (similar to a movie I showed in class). Thus, even for physical collisions, binary-mediated encounters dominate over single-single collisions in a typical star cluster even for only a few $\\%$ binaries. "
   ]
  },
  {
   "cell_type": "markdown",
   "metadata": {},
   "source": [
    "## Problem 3."
   ]
  },
  {
   "cell_type": "markdown",
   "metadata": {},
   "source": [
    "### 1."
   ]
  },
  {
   "cell_type": "markdown",
   "metadata": {},
   "source": [
    "The assumption of virial theorem and the equivalence of average K.E. to a temperature, $\\frac{1}{2}<mv^2> = \\frac{3}{2}k_BT$, leads to the negative heat capacity in $r^{-2}$ force. In this type of force, when energy is taken out, the P.E. decreases more than the total energy decrease (c.f. Problem 1), hence, K.E., on an average, increases more. This leads to an equivalent increase in temperature. Hence, the negative heat capacity.   "
   ]
  },
  {
   "cell_type": "markdown",
   "metadata": {},
   "source": [
    "### 2."
   ]
  },
  {
   "cell_type": "markdown",
   "metadata": {},
   "source": [
    "According to the virial theorem, \n",
    "\\begin{equation}\n",
    "2<E_K> = <\\sum_{i,j; i<j} F_{i,j} . (\\vec{r_i} - \\vec{r_j})>,\n",
    "\\end{equation}\n",
    "where, the averaging is over a long enough duration, $F_{i,j}$ is the force between stars $i$ and $j$.\n",
    "\n",
    "For a $r^{-1}$ force, the RHS is independent of $r$. \n",
    "\n",
    "On the other hand, the average potential energy is \n",
    "\\begin{equation}\n",
    "<E_P> = <\\sum_{i,j; i<j} k \\ln|\\vec{r_i}-\\vec{r_j}|>,\n",
    "\\end{equation}\n",
    "where, $k$ contains all position-independent terms such as $G$ and masses. \n",
    "\n",
    "So, this is similar to \n",
    "<E_T(r)> = <E_K> + <E_P(r)>.\n",
    "\n",
    "So, when energy is extracted, total energy <E_T(r)> decreases (becomes more negative), which leads to a lower $r$ on an average, which leads to a lower (more negative) $<E_P>$ keeping <E_K> unchanged. \n",
    "\n",
    "Thus, no matter, how much the energy changes, temperature $T\\ \\propto\\ <E_K>$ remains unchanged. Thus, the specific heat \n",
    "\\begin{eqnarray}\n",
    "C &\\sim& \\frac{\\Delta E}{\\Delta T} \\\\\n",
    "{\\rm Hence\\ for}\\ \\Delta T &\\rightarrow& 0,\\\\\n",
    "C &\\rightarrow& \\infty\n",
    "\\end{eqnarray}\n",
    "The sign actually depends on the sign of $\\Delta E$."
   ]
  }
 ],
 "metadata": {
  "kernelspec": {
   "display_name": "Python 3",
   "language": "python",
   "name": "python3"
  },
  "language_info": {
   "codemirror_mode": {
    "name": "ipython",
    "version": 3
   },
   "file_extension": ".py",
   "mimetype": "text/x-python",
   "name": "python",
   "nbconvert_exporter": "python",
   "pygments_lexer": "ipython3",
   "version": "3.6.8"
  }
 },
 "nbformat": 4,
 "nbformat_minor": 2
}
