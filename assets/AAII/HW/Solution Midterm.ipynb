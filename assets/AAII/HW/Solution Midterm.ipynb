{
 "cells": [
  {
   "cell_type": "markdown",
   "metadata": {},
   "source": [
    "# Problem 1"
   ]
  },
  {
   "cell_type": "markdown",
   "metadata": {},
   "source": [
    "### 1."
   ]
  },
  {
   "cell_type": "markdown",
   "metadata": {},
   "source": [
    "The total energy $E>0$ means the object is unbound. "
   ]
  },
  {
   "cell_type": "markdown",
   "metadata": {},
   "source": [
    "### 2."
   ]
  },
  {
   "cell_type": "markdown",
   "metadata": {},
   "source": [
    "Yes. A star can achieve $E>0$ at some point but still remain bound to the system if before it leaves the system, it goes through encounters (either two-body relaxation or strong encounters) with other objects in the system which reduce its energy to $E<0$.  "
   ]
  },
  {
   "cell_type": "markdown",
   "metadata": {},
   "source": [
    "### 3."
   ]
  },
  {
   "cell_type": "markdown",
   "metadata": {},
   "source": [
    "#### Due to Two-Body Relaxation"
   ]
  },
  {
   "cell_type": "markdown",
   "metadata": {},
   "source": [
    "In a large-$N$ system order 1 changes in the velocity occurs on a relaxation timescale ($t_{\\rm{relax}}$) due to distant encounters. A star with $E>0$ escapes the system at a timescale of the crossing time $t_{\\rm{cross}}$. Thus the overall probability that a star's energy will change before it leaves the system is simply- \n",
    "\n",
    "\\begin{equation}\n",
    "P \\propto \\frac{t_{\\rm{cross}}}{t_{\\rm{relax}}} \\sim \\frac{\\ln N}{N}\n",
    "\\end{equation}"
   ]
  },
  {
   "cell_type": "markdown",
   "metadata": {},
   "source": [
    "#### Due to Strong Encounters"
   ]
  },
  {
   "cell_type": "markdown",
   "metadata": {},
   "source": [
    "The other way the velocities can change is via strong scattering. Based on our class, let's call that any encounter with an impact parameter $b\\leq b_{90}$ is a strong encounter. A star moving with $v>v_{\\rm{esc}}$ will have a strong encounter rate given by $\\sim n\\sigma v_r$, where $n$ is the average number density of other stars, $\\sigma$ is the encounter cross-section, and $v_r$ is the expected relative velocity between the escaping star and other stars in the system.  "
   ]
  },
  {
   "cell_type": "markdown",
   "metadata": {},
   "source": [
    "\\begin{eqnarray}\n",
    "v_r &\\sim& v_{\\rm{esc}}\\\\\n",
    "n &\\sim& N/R^3\\\\\n",
    "\\sigma &\\sim& b^2_{90}\\\\\n",
    "       &\\sim&\\left(\\frac{Gm_T}{v^2_{\\rm{esc}}}\\right)^2\\\\\n",
    "       &\\sim&\\left(\\frac{GM}{N} \\frac{r}{GM}\\right)^2\\\\\n",
    "       &\\sim&\\left(\\frac{R}{N}\\right)^2.\n",
    "\\end{eqnarray}\n",
    "\n",
    "Here, we assumed that $m_T\\sim M/N$, $v_{\\rm{esc}}\\sim\\frac{GM}{R}$. $M$ is the total system mass and $m_T=m_1+m_2$ is the total mass between the interacting objects. "
   ]
  },
  {
   "cell_type": "markdown",
   "metadata": {},
   "source": [
    "Thus, \n",
    "\n",
    "\\begin{equation}\n",
    "n\\sigma v_r \\sim \\frac{N}{R^3} b^2_{90} v_{\\rm{esc}} \\approx \\frac{N}{R^3} \\frac{R^2}{N^2} v_{\\rm{esc}}=\\frac{1}{RN} v_{\\rm{esc}}.\n",
    "\\end{equation}\n",
    "\n",
    "So, the probability that the escaping star will have an encounter before leaving the system is -\n",
    "\n",
    "\\begin{equation}\n",
    "P\\propto P_{\\rm{enc}}\\sim n \\sigma v_r t_{\\rm{cross}} \\sim \\frac{1}{RN} v_{\\rm{esc}} \\frac{R}{v_{\\rm{esc}}} = \\frac{1}{N}\n",
    "\\end{equation}"
   ]
  },
  {
   "cell_type": "markdown",
   "metadata": {},
   "source": [
    "In general, the probability of retention is low and is inversely proportional to $N$. This is also called \"back scattering\" in $N$-body literature. "
   ]
  },
  {
   "cell_type": "markdown",
   "metadata": {},
   "source": [
    "# Problem 2"
   ]
  },
  {
   "cell_type": "markdown",
   "metadata": {},
   "source": [
    "### 1."
   ]
  },
  {
   "cell_type": "markdown",
   "metadata": {},
   "source": [
    "Stars of different species tend to reach equipartition of kinetic energy. Thus, species $m_1$ moving in the potential of $m_2$ will try to achive-\n",
    "\n",
    "\\begin{eqnarray}\n",
    "m_1<v_1^2> &=& m_2<v_2^2> \\\\\n",
    "i.e., <v_1^2> &=& \\frac{m_2}{m_1} <v_2^2>\\\\\n",
    "\\end{eqnarray}\n",
    "\n",
    "Thus, the higher-mass species will lose energy to the lower-mass species and hence will become more bound and sink into the potential. "
   ]
  },
  {
   "cell_type": "markdown",
   "metadata": {},
   "source": [
    "### 2."
   ]
  },
  {
   "cell_type": "markdown",
   "metadata": {},
   "source": [
    "Mass enclosed within $r$\n",
    "\n",
    "\\begin{equation}\n",
    "M(r) = \\frac{4}{3} \\pi r^3 \\rho\n",
    "\\end{equation}\n",
    "\n",
    "The potential at $r$ is \n",
    "\n",
    "\\begin{equation}\n",
    "\\phi(r) = -\\frac{GM(r)}{r} = \\frac{4\\pi G\\rho}{3} r^2\n",
    "\\end{equation}"
   ]
  },
  {
   "cell_type": "markdown",
   "metadata": {},
   "source": [
    "Using $x=r\\cos\\theta$ and $y=r\\sin\\theta$, we get a complete set of equations:\n",
    "\n",
    "\\begin{equation}\n",
    "\\ddot{x} = -\\frac{\\partial \\phi}{\\partial x} = -\\frac{8\\pi G\\rho}{3} x\n",
    "\\end{equation}\n",
    "\n",
    "and \n",
    "\n",
    "\\begin{equation}\n",
    "\\ddot{y} = -\\frac{\\partial \\phi}{\\partial y} = -\\frac{8\\pi G\\rho}{3} y\n",
    "\\end{equation}\n",
    "\n",
    "These are equations for a 2D simple harmonic oscillator. "
   ]
  },
  {
   "cell_type": "markdown",
   "metadata": {},
   "source": [
    "### 3."
   ]
  },
  {
   "cell_type": "markdown",
   "metadata": {},
   "source": [
    "Turning points are where the velocity is zero. For simplicity in the next part, let's go to the $r$, $\\theta$ coordinate system and invoke integrals of motion. \n",
    "\n",
    "Total energy \n",
    "\n",
    "\\begin{equation}\n",
    "E = \\frac{1}{2} \\left(\\dot{r}^2 + r^2\\dot{\\theta}^2 \\right) + \\phi(r)\n",
    "\\end{equation}\n",
    "\n",
    "Invoking, $E$ and $r^2\\dot{\\theta}=L$ to be conserved, and replacing the $\\dot{\\theta}$ term above we get, \n",
    "\n",
    "\\begin{equation}\n",
    "\\dot{r}^2 = 2[E-\\phi(r)] - \\frac{L^2}{r^2}\n",
    "\\end{equation}\n",
    "\n",
    "The turning points are the solution of \n",
    "\n",
    "\\begin{eqnarray}\n",
    "\\dot{r} &=& 0 \\\\\n",
    "i.e., r &=& \\pm \\sqrt{2[E-\\phi(r)] - \\frac{L^2}{r^2}}\\\\\n",
    "\\end{eqnarray}"
   ]
  },
  {
   "cell_type": "markdown",
   "metadata": {},
   "source": [
    "### 4."
   ]
  },
  {
   "cell_type": "markdown",
   "metadata": {},
   "source": [
    "The problem essentially is to find out the confinement radius of a species that keeps losing energy to the other species. The spatial separation is simply because the gradual reduction of $<v_1^2>$ over time and since the average kinetic energy of a species is connected to the average potential energy of the species, we can relate $<v_1^2>$ to some confinement radius in an order of magnitude way using the virial equilibrium. \n",
    "\n",
    "The kinetic energy in species 1 is $E_{K,1} \\sim <v_1^2>$. \n",
    "\n",
    "The potential energy in species 1 assuming uniform density is $E_{P,1} \\sim \\phi_1 \\sim R_1^2$, where $R_1$ is the characteristic radial extent of the orbits of species 1. \n",
    "\n",
    "Invoking virial equilibrium, \n",
    "\n",
    "\\begin{eqnarray}\n",
    "E_{K,1} &=& \\frac{1}{2} E_{P,1}\\\\\n",
    "i.e., <v_1^2> &\\sim& R^2_1\\\\\n",
    "i.e., \\frac{m_2}{m_1}<v_2^2> &\\sim& R^2_1\\\\\n",
    "i.e., \\frac{m_2}{m_1}R_2^2 &\\sim& R^2_1\\\\\n",
    "i.e., R_1 &\\sim& \\left(\\frac{m_2}{m_1}\\right)^{1/2} R_2\n",
    "\\end{eqnarray}\n",
    "\n",
    "Assuming that the size of the system $R$ essentially is the size of the subsystem species 2, it follows, \n",
    "\n",
    "$R_1 \\sim \\left(\\frac{m_2}{m_1}\\right)^{1/2} R$. "
   ]
  },
  {
   "cell_type": "markdown",
   "metadata": {},
   "source": [
    "### 5. "
   ]
  },
  {
   "cell_type": "markdown",
   "metadata": {},
   "source": [
    "One of the basic assumptions was that $M_1<<M_2$, as a result, we could think of this problem simply as the species 1 is sinking in the unchanging background potential of species 2. However, as $R_1$ decreases keeping the density of species 2 $\\rho_2$ constant, at some point the total mass in species 2 within $R_1$ will become comparable to $M_1$. This is where our basic assumption will not hold. \n",
    "\n",
    "Total mass of species 2 contained within $R_1$ is \n",
    "\n",
    "\\begin{equation}\n",
    "M_{(2; \\leq R_1)} = \\rho_2 \\frac{4}{3} \\pi R_1^3 = \\left(\\frac{m_2}{m_1}\\right)^{3/2}\\frac{4}{3} \\pi R^3 \\rho_2 = \\left(\\frac{m_2}{m_1}\\right)^{3/2}M_2\n",
    "\\end{equation}\n",
    "\n",
    "The assumption of species 1 moving in a potential dominated by species 2 of course breaks down when \n",
    "\n",
    "$M_1\\geq M_{(2; \\leq R_1)} = \\left(\\frac{m_2}{m_1}\\right)^{3/2}M_2$."
   ]
  },
  {
   "cell_type": "markdown",
   "metadata": {},
   "source": [
    "# Problem 3"
   ]
  },
  {
   "cell_type": "markdown",
   "metadata": {},
   "source": [
    "### 1."
   ]
  },
  {
   "cell_type": "markdown",
   "metadata": {},
   "source": [
    "For a polytropic Ergodic DF, \n",
    "\n",
    "$\\rho=\\psi^n$.\n",
    "\n",
    "If $\\rho\\propto r^{-\\alpha}$, then $\\psi\\sim r^{-\\alpha/n}$. \n",
    "\n",
    "Force per unit mass is-\n",
    "\n",
    "\\begin{equation}\n",
    "\\frac{GM(r)}{r^2} = -\\frac{d\\psi}{dr}. \n",
    "\\end{equation}\n",
    "\n",
    "Thus, $M(r) = \\frac{r^2}{G} \\frac{d\\psi}{dr} \\sim r^{(n-3)/(n-1)}$."
   ]
  },
  {
   "cell_type": "markdown",
   "metadata": {},
   "source": [
    "### (a)"
   ]
  },
  {
   "cell_type": "markdown",
   "metadata": {},
   "source": [
    "$n=3$ implies $M(r)\\sim$ constant. This is equivalent to a central point mass, thus for any $r>0$, the mass enclosed is the same. "
   ]
  },
  {
   "cell_type": "markdown",
   "metadata": {},
   "source": [
    "### (b)"
   ]
  },
  {
   "cell_type": "markdown",
   "metadata": {},
   "source": [
    "$n\\rightarrow\\infty$ implies $M(r)\\sim r$ and equivalently, from the ideal gas equation, $\\gamma=1+\\frac{1}{n}=1$. Thus, the equivalent thermodynamic system will have $p=k\\rho$, which is the EOS for isothermal gas. \n",
    "\n",
    "This limit represents isothermal sphere. "
   ]
  },
  {
   "cell_type": "markdown",
   "metadata": {},
   "source": [
    "### 2."
   ]
  },
  {
   "cell_type": "markdown",
   "metadata": {},
   "source": [
    "### (a)"
   ]
  },
  {
   "cell_type": "markdown",
   "metadata": {},
   "source": [
    "Polytropic Poisson's equation with $\\rho=c_n \\Psi^n$: \n",
    "\n",
    "\\begin{equation}\n",
    "\\frac{1}{r^2}\\frac{d}{dr}\\left(r^2\\frac{d\\Psi}{dr}\\right) + 4\\pi G c_n \\Psi^n = 0\n",
    "\\end{equation}\n",
    "\n",
    "for $\\Psi>0$. The density becomes zero if $\\Psi=0$ and undefined if $\\Psi<0$."
   ]
  },
  {
   "cell_type": "markdown",
   "metadata": {},
   "source": [
    "Substituting, \n",
    "\n",
    "\\begin{equation}\n",
    "\\Psi=\\Psi_0\\psi,\n",
    "\\end{equation}\n",
    "\n",
    "\\begin{eqnarray}\n",
    "s &=& \\frac{r}{b}\\\\\n",
    "i.e., \\frac{d}{dr} &=& \\frac{1}{b}\\frac{d}{ds},\n",
    "\\end{eqnarray}\n",
    "\n",
    "We can rewrite the first term of the Poisson's equation as \n",
    "\n",
    "\\begin{equation}\n",
    "\\frac{\\Psi_0}{b^2} \\frac{1}{s^2} \\frac{d}{ds} \\left(s^2 \\frac{d\\psi}{ds}\\right).\n",
    "\\end{equation}\n",
    "\n",
    "Using, $\\frac{1}{b^2} = \\frac{4}{3}\\pi G \\Psi_0^{n-1} c_n$, one can rewrite the second term as- \n",
    "\n",
    "\\begin{equation}\n",
    "4\\pi G c_n \\Psi^n = 4\\pi G c_n \\Psi_0^n \\psi^n = 3 \\frac{\\Psi_0}{b^2} \\psi^n.\n",
    "\\end{equation}\n",
    "\n",
    "Dividing both terms by $\\Psi_0/b^2$, and remembering the limits of validity for a polytropic equation ($\\Psi>0$) we get-\n",
    "\n",
    "\\begin{eqnarray}\n",
    "\\frac{1}{s^2} \\frac{d}{ds} \\left(s^2\\frac{d\\psi}{ds}\\right) &=& -3\\psi^n \\ (\\psi>0)\\\\\n",
    "                                                            &=& 0\\ (\\psi\\leq 0)\n",
    "\\end{eqnarray}"
   ]
  },
  {
   "cell_type": "markdown",
   "metadata": {},
   "source": [
    "### (b)"
   ]
  },
  {
   "cell_type": "markdown",
   "metadata": {},
   "source": [
    "For Plummer sphere, $\\phi=-\\frac{GM}{\\sqrt{r^2+b^2}}$. By definition, $\\Psi=-\\phi+\\phi_0$. Defining $\\phi_0=0$, $\\Psi=\\frac{GM}{\\sqrt{r^2+b^2}}$. \n",
    "\n",
    "Hence, $\\Psi_0\\equiv \\Psi(0) = \\frac{GM}{b}$. Thus, $\\psi = \\frac{\\Psi}{\\Psi_0} = \\frac{1}{\\sqrt{1+r^2/b^2}} = \\frac{1}{\\sqrt{1+s^2}}$, where $s\\equiv \\frac{r}{b}$."
   ]
  },
  {
   "cell_type": "markdown",
   "metadata": {},
   "source": [
    "Putting this in the Lane-Emden equation, \n",
    "\n",
    "\\begin{eqnarray}\n",
    "\\frac{1}{s^2} \\frac{d}{ds} \\left(s^2\\frac{d\\psi}{ds}\\right) &=& \\frac{1}{s^2} \\frac{d}{ds} \\left(s^2\\frac{d(1+s^2)^{-1/2}}{ds}\\right)\\\\\n",
    " &=& -3\\psi^5.\n",
    "\\end{eqnarray}\n",
    "\n",
    "Thus, clearly, the Plummer sphere is a solution of the Lane-Emden equation with $n=5$."
   ]
  },
  {
   "cell_type": "markdown",
   "metadata": {},
   "source": [
    "### (c)"
   ]
  },
  {
   "cell_type": "markdown",
   "metadata": {},
   "source": [
    "According to the Polytropic equation, density \n",
    "\n",
    "\\begin{equation}\n",
    "\\rho = c_5 \\Psi^5 = c_5 \\frac{\\Psi_0^5}{(1+s^2)^{5/2}}\n",
    "\\end{equation}\n",
    "\n",
    "For $r\\rightarrow \\infty$, i.e., $s\\rightarrow\\infty$, $\\rho\\rightarrow c_5 \\Psi_0^5 s^{-5}=c_5 \\Psi_0^5 b^5 r^{-5}$. Thus, the density is nowhere zero although it reduces quite fast with increasing $r$. \n",
    "\n",
    "The total mass can be obtained if we can find the force on a unit mass at $r\\rightarrow\\infty$ due to the system. The force on a unit mass at $r\\rightarrow\\infty$ is-\n",
    "\n",
    "\\begin{eqnarray}\n",
    "\\left(\\frac{GM}{r^2}\\right)_{r\\rightarrow\\infty} &=& \\left(\\frac{d\\phi}{dr}\\right)_{r\\rightarrow\\infty}\\\\\n",
    "             i.e., M  &=& \\frac{1}{G} \\left(r^2 \\frac{d\\phi}{dr}\\right)_{r\\rightarrow\\infty}\\\\\n",
    "             i.e., M  &=& -\\frac{b}{G} \\left(s^2 \\frac{d\\Psi}{ds}\\right)_{s\\rightarrow\\infty}\\\\\n",
    "             i.e., M  &=& -\\frac{b\\Psi_0}{G} \\left(s^2 \\frac{d\\psi}{ds}\\right)_{s\\rightarrow\\infty}\\\\\n",
    "             i.e., M  &=& \\frac{b\\Psi_0}{G} \\left(\\frac{s^3}{(1+s^2)^{3/2}}\\right)_{s\\rightarrow\\infty}\\\\\n",
    "             i.e., M &=& \\frac{b\\Psi_0}{G}\\\\\n",
    "\\end{eqnarray}\n",
    "\n",
    "Hence, the total mass is finite. "
   ]
  },
  {
   "cell_type": "markdown",
   "metadata": {},
   "source": [
    "#### An alternative way to show the above."
   ]
  },
  {
   "cell_type": "markdown",
   "metadata": {},
   "source": [
    "For Plummer sphere, \n",
    "$\\phi = -\\frac{GM}{\\sqrt{r^2+b^2}}$. \n",
    "\n",
    "From Poisson's equation, \n",
    "\n",
    "\\begin{equation}\n",
    "\\frac{1}{r^2} \\frac{d}{dr} \\left(r^2 \\frac{d\\phi}{dr}\\right) = 4\\pi G\\rho.\n",
    "\\end{equation}\n",
    "\n",
    "Solving for $\\rho$ gives \n",
    "\n",
    "\\begin{equation}\n",
    "\\rho(r) = \\frac{3M}{4\\pi b^3} \\left( 1+\\frac{r^2}{b^2}\\right)^{-5/2}.\n",
    "\\end{equation}\n",
    "\n",
    "For $r>>b$, $\\rho \\sim r^{-5}$. Thus, it is non-zero everywhere, although it goes down rapidly.  \n",
    "\n",
    "The mass within $r$ is given by- \n",
    "\n",
    "\\begin{eqnarray}\n",
    "M(r) &=& \\int^r_0 4\\pi x^2 dx  \\frac{3M}{4\\pi b^3} \\left( 1+\\frac{x^2}{b^2}\\right)^{-5/2}\\\\\n",
    "     &=& 3M \\int^{r/b}_0 \\frac{x^2}{b^2} d(x/b)   \\left( 1+\\frac{x^2}{b^2}\\right)^{-5/2}\\\\\n",
    "     &=& 3M \\int^{r/b}_0 y^2 \\left( 1+y^2\\right)^{-5/2} dy\\\\\n",
    "     &=& 3M \\frac{r^3/b^3}{3(1+r^2/b^2)^{3/2}}\\\\\n",
    "     &\\approx& M\\ \\rm{for}\\ r>>b\\\\\n",
    "\\end{eqnarray}\n",
    "\n",
    "\n",
    "Thus, the total mass is finite."
   ]
  },
  {
   "cell_type": "markdown",
   "metadata": {},
   "source": [
    "### (c)"
   ]
  },
  {
   "cell_type": "markdown",
   "metadata": {},
   "source": [
    "The Lane-Emden equation does not have analytic solutions unless $n=1, 5$. So, let's consider the behavior of the potential around the above potential form. Note from the above that as $n$ increases, the potential decreases more slowly with increasing $r$. In the Plummer potential, $(d\\phi/dr)_{r\\rightarrow\\infty}\\sim r^{-2}$.\n",
    "\n",
    "The total mass $M\\sim r^2 \\frac{d\\phi}{dr}$. So, if $d\\phi/dr\\sim r^{-2}$, the mass is finite. If $d\\phi/dr\\sim r^{-2+\\delta}$, then clearly that mass will not be finite as $r\\rightarrow\\infty$, where $\\delta>0$. On the other hand, for any $\\delta\\leq0$, the mass remains finite.\n",
    "\n",
    "In addition, note that for $n=5$ the $\\frac{dM(r)}{dr}\\rightarrow0$ for $r\\rightarrow\\infty$. Physically this means that as $r$ is increases, very little additional mass is obtained and the total mass asymptotes to $M$. For $n<5$, based on the above order-of-magnitude argument around $n=5$, one can show that $\\frac{dM(r)}{dr}<0$. If the extent is infinite, this would indicate that as you increase $r$, mass enclosed is reduced. This is clearly meaningless. So, the extent must be finite. On the other hand, for $n>5$, $\\frac{dM(r)}{dr}>0$ for $r\\rightarrow\\infty$. So mass as well as extent are infinite. \n",
    "\n",
    "Of course, a more rigorous proof can be obtained by numerically solving the Lane-Emden equation for $n\\neq1,5$. If one plots the density for those solutions for $n<5$, the density crosses the $r$ axis indicating that for some finite $r$ the density becomes negative.   "
   ]
  },
  {
   "cell_type": "markdown",
   "metadata": {},
   "source": [
    "## Problem 4"
   ]
  },
  {
   "cell_type": "markdown",
   "metadata": {},
   "source": [
    "### 1."
   ]
  },
  {
   "cell_type": "markdown",
   "metadata": {},
   "source": [
    "The three-dimensional velocity dispersion assuming isotropy is \n",
    "\n",
    "\\begin{equation}\n",
    "v^2_\\sigma = <v^2> = \\frac{\\int_{-\\infty}^{\\infty} d^3v\\ v^2 f(\\mathcal{E})}{\\int_{-\\infty}^{\\infty} d^3v\\ f(\\mathcal{E})}\n",
    "\\end{equation}\n",
    "\n",
    "where all symbols have usual meaning. \n",
    "\n",
    "\\begin{eqnarray}\n",
    "f &=& F\\mathcal{E}^{n-3/2}\\ {\\rm for}\\ \\mathcal{E}>0 \\\\\n",
    "  &=& 0\\ {\\rm for}\\ \\mathcal{E}\\leq0\\\\\n",
    "\\end{eqnarray}\n",
    "\n",
    "Now notice that \n",
    "\n",
    "\\begin{equation}\n",
    "\\mathcal{E} = -\\phi - \\frac{1}{2} v^2,\n",
    "\\end{equation}\n",
    "\n",
    "and for Plummer sphere \n",
    "\n",
    "\\begin{equation}\n",
    "n = 5.\n",
    "\\end{equation}\n",
    "\n",
    "\\begin{equation}\n",
    "<v^2> = \\frac{\\int_{0}^{\\sqrt{-2\\phi}} dv\\ v^4\\ (-\\phi-\\frac{1}{2}v^2)^{7/2}}{\\int_{0}^{\\sqrt{-2\\phi}}dv\\ v^2\\ (-\\phi-\\frac{1}{2}v^2)^{7/2}}.\n",
    "\\end{equation}\n",
    "\n",
    "Replace variables such that, \n",
    "\n",
    "\\begin{eqnarray}\n",
    "v &=& \\sqrt{-2\\phi}\\ \\sin\\ \\theta \\\\\n",
    "dv &=& \\sqrt{-2\\phi}\\ \\cos\\ \\theta\\ d\\theta\\\\\n",
    "\\end{eqnarray}\n",
    "\n",
    "\\begin{equation}\n",
    "<v^2> = \\frac{ -2\\phi \\int^{\\pi/2}_{0} \\sin^4\\ \\theta\\ (1-\\sin^2\\theta)^{7/2}\\ cos\\ \\theta\\ d\\theta }{ \\int^{\\pi/2}_{0} \\sin^2\\ \\theta\\ (1-\\sin^2\\ \\theta)^{7/2}\\ cos\\ \\theta\\ d\\theta }.\n",
    "\\end{equation}\n",
    "\n",
    "Again replace variables- \n",
    "\n",
    "\\begin{eqnarray}\n",
    "\\sin\\theta &=& t \\\\\n",
    "\\cos\\theta\\ d\\theta &=& dt, \\\\\n",
    "\\end{eqnarray}"
   ]
  },
  {
   "cell_type": "markdown",
   "metadata": {},
   "source": [
    "then, \n",
    "\n",
    "\\begin{eqnarray}\n",
    "<v^2> &=& \\frac{ -2\\phi\\ \\int_{0}^{1}\\ dt\\ t^4\\ (1-t^2)^{7/2} }{ \\int_{0}^{1}\\ dt\\ t^2\\ (1-t^2)^{7/2} } \\\\\n",
    "      &\\approx& -2\\phi \\frac{7\\pi/2048}{7\\pi/512} \\\\\n",
    "      &=& -\\frac{\\phi}{2} \\\\\n",
    "      &=& \\frac{GM}{2\\sqrt{r^2+b^2}} \\\\\n",
    "      &=& \\frac{GM}{2b\\sqrt{1+r^2/b^2}} \\\\\n",
    "      &=& \\left(\\frac{\\pi}{24} \\frac{G^5 M^4}{b^2} \\rho \\right)^{1/5}\n",
    "\\end{eqnarray}"
   ]
  },
  {
   "cell_type": "markdown",
   "metadata": {},
   "source": [
    "### 2."
   ]
  },
  {
   "cell_type": "markdown",
   "metadata": {},
   "source": [
    "\\begin{equation}\n",
    "\\Gamma_{\\rm{BS}} = n\\sigma v_\\infty = n \\pi b_{\\rm{impact}}^2 v_\\infty\n",
    "\\end{equation}\n",
    "\n",
    "The impact parameter, $b^2_{\\rm{impact}} = a^2(1+\\frac{v^2_c}{v^2_\\infty})$, where $a$ is the semimajor axis, $v_c\\equiv \\left[\\frac{2G(m_1+m_2+m)}{a}\\right]^{1/2}$ is the critical velocity. Thus, \n",
    "\n",
    "\\begin{equation}\n",
    "\\Gamma_{\\rm{BS}} = n \\pi v_\\infty a^2 \\left[1 + \\frac{2G(m_1+m_2+m)}{av_\\infty^2}\\right]\n",
    "\\end{equation}\n",
    "\n",
    "Replacing $n=\\rho/<m_\\star>$, we get \n",
    "\n",
    "\\begin{equation}\n",
    "\\Gamma_{\\rm{BS}} = \\pi \\frac{\\rho}{<m_\\star>} v_\\infty a^2 \\left[1 + \\frac{2G(m_1+m_2+m)}{av_\\infty^2}\\right]\n",
    "\\end{equation}"
   ]
  },
  {
   "cell_type": "markdown",
   "metadata": {},
   "source": [
    "#### Note: "
   ]
  },
  {
   "cell_type": "markdown",
   "metadata": {},
   "source": [
    "It is quite obvious that the larger the semimajor axis, the larger the cross section. The largest semimajor axis that can remain unbroken is calculated by saying that the total energy of the 3-body system is zero. i.e., equate the kinetic energy of the reduced 3-body system ($E_K$) is equal to the total energy of the binary ($E_b$). \n",
    "\n",
    "\\begin{eqnarray}\n",
    "E_K &=& E_b \\\\\n",
    "i.e., \\frac{1}{2}\\frac{m(m_1+m_2)}{m+m_1+m_2} v_\\infty^2 &=& \\frac{Gm_1m_2}{2a}\\\\\n",
    "i.e., a_{\\rm{max}} &=& \\frac{Gm_1m_2(m_1+m_2+m)}{m(m_1+m_2)v_\\infty^2}\\\\\n",
    "\\end{eqnarray}"
   ]
  },
  {
   "cell_type": "markdown",
   "metadata": {},
   "source": [
    "### 3."
   ]
  },
  {
   "cell_type": "markdown",
   "metadata": {},
   "source": [
    "Escape speed \n",
    "\n",
    "\\begin{equation}\n",
    "v_{\\rm{esc}} = \\sqrt{-2\\phi} = \\left[\\frac{2GM}{(r^2+b^2)^{1/2}}\\right]^{1/2} = \\left(\\frac{2GM}{b} \\frac{1}{\\sqrt{1+(r/b)^2}}\\right)^{1/2}\n",
    "\\end{equation}"
   ]
  },
  {
   "cell_type": "markdown",
   "metadata": {},
   "source": [
    "### 4."
   ]
  },
  {
   "cell_type": "markdown",
   "metadata": {},
   "source": [
    "In general, for merging BBHs to be produced, $t_s + t_{\\rm{formation}} + t_{\\rm{merger}} \\leq$ age of the universe, where, $t_{\\rm{formation}}$ and $t_{\\rm{merger}}$ are timescale for BBH formation via dynamical processes, and timescale for merger through GW radiation. Below we estimate the different timescales."
   ]
  },
  {
   "cell_type": "markdown",
   "metadata": {},
   "source": [
    "#### Mass segregation"
   ]
  },
  {
   "cell_type": "markdown",
   "metadata": {},
   "source": [
    "For a given cluster of mass $M$, the total number of stellar objects is $N\\equiv M/<m_\\star>$ and the number of binaries is $N_b\\equiv f_b N$. \n",
    "\n",
    "Most of the interactions happen at the deepest part of the potential, i.e., $r<<b$. Note, in principle, one can integrate over all $r$, but for simplicity, we will choose that all interactions are happening at small $r$. Also note that $\\Gamma\\propto \\rho$, so, interactions will happen more frequently at small $r$ anyway. \n",
    "\n",
    "$t_{\\rm{relax}}\\sim \\frac{N}{0.1 \\ln N} t_{\\rm{dyn}} \\sim \\frac{N}{0.1 \\ln N} \\frac{R}{<v^2>^{1/2}}$, where, $t_{\\rm{relax}}$ and $t_{\\rm{dyn}}$ are the local two-body relaxation timescale and dynamical timescale, respectively, $R$ is some characteristic size, and $<v^2>$ is the 3-D velocity dispersion."
   ]
  },
  {
   "cell_type": "markdown",
   "metadata": {},
   "source": [
    "Since Plummer sphere has infinite extent, we need to decide on some characteristic size $R_x$ and average velocity dispersion $\\overline{<v^2>_{x}}$ upto $R_x$ to estimate $t_{\\rm{dyn}}$ such that mass enclosed within $R_x$, $M(R_x)=xM$, where, $x<1$. \n",
    "\n",
    "\\begin{equation}\n",
    "R_x = b \\left(\\frac{x^{2/3}}{1-x^{2/3}}\\right)^{1/2}\n",
    "\\end{equation}\n",
    "\n",
    "The average velocity dispersion, $\\overline{<v^2>_x}$ is given by-\n",
    "\n",
    "\\begin{equation}\n",
    "\\overline{<v^2>_{x}} = \\frac{\\int^{R_x}_0 <v^2> 4\\pi r'^2 \\rho dr'}{\\int^r_0 4 \\pi r'^2 \\rho dr'} = \\frac{3GM}{2b} \n",
    "\\left[ \\frac{tan^{-1}(R_x/b)}{8} + \\frac{(R_x/b)^3 - R_x/b}{8(R_x/b)^4 + 16(R_x/b)^2 + 8} \\right]\n",
    "\\end{equation}\n",
    "\n",
    "It is also OK to simply estimate a characteristic $<v^2>_x$ at $R_x$ by- \n",
    "\n",
    "\\begin{equation}\n",
    "<v^2>_x = \\frac{GM}{2b\\sqrt{1+R_x^2/b^2}}\n",
    "\\end{equation}\n",
    "\n",
    "The dynamical time is roughly-\n",
    "\n",
    "\\begin{eqnarray}\n",
    "t_{\\rm{dyn}} &\\approx& \\frac{R_x}{\\sqrt{\\overline{<v^2>_{r\\leq r_x}}}} \\\\\n",
    "\\rm{or\\ more\\ approximately} &\\approx& \\frac{R_x}{\\sqrt{<v^2>_x}}\n",
    "\\end{eqnarray}"
   ]
  },
  {
   "cell_type": "markdown",
   "metadata": {},
   "source": [
    "BHs sink over the mass segregation timescale $t_{\\rm{MS}}\\sim \\frac{m_{\\rm{BH}}}{<m_\\star>} t_{\\rm{relax}}$. "
   ]
  },
  {
   "cell_type": "markdown",
   "metadata": {},
   "source": [
    "#### Interaction timescale"
   ]
  },
  {
   "cell_type": "markdown",
   "metadata": {},
   "source": [
    "Interaction rate for binary--single encounter is-\n",
    "\n",
    "\\begin{equation}\n",
    "\\Gamma = n\\sigma v_\\infty = n \\pi a^2 \\left[1+\\frac{2G(m_1+m_2+m)}{av_\\infty^2}\\right] v_\\infty\n",
    "\\end{equation}\n",
    "\n",
    "Timescale for binary--single interactions for a single binary is $\\Gamma^{-1}$.\n",
    "\n",
    "The timeacale for any interaction is $(N_b\\Gamma)^{-1}$. "
   ]
  },
  {
   "cell_type": "markdown",
   "metadata": {},
   "source": [
    "Of course in a cluster there is a range in $a$. However, most interactions happen with the largest allowed $a$ that does not get broken in the cluster environment due to strong encounters. This limit can be calculated using the idea of critical velocity. If you equate the kinetic energy of the reduced three-body system with the binding energy of the binary, then the total energy is zero. The total energy must be $>0$ is ionization is allowed. Hence, the largest binary would be where $a$ is such that the total energy is zero. \n",
    "\n",
    "Using this criteria, one can get the maximum $a=a_{\\rm{max}}$ as \n",
    "\n",
    "\\begin{equation}\n",
    "a_{\\rm{max}} = \\frac{Gm_1m_2(m_1+m_2+m)}{m(m_1+m_2)v_\\infty^2}\n",
    "\\end{equation}\n",
    "\n",
    "In the numerical part we will simply use $a=a_{\\rm{max}}$ to calculate the interaction rate."
   ]
  },
  {
   "cell_type": "markdown",
   "metadata": {},
   "source": [
    "#### Inspiral timescale"
   ]
  },
  {
   "cell_type": "markdown",
   "metadata": {},
   "source": [
    "Use Peters equation to estimate the merger timescale for any given binary. Note that the timescale to merger is a very steep function of $a$ and $e$. Thus, it is best to use the smallent $a$ that dynamics can create in the cluster environment. \n",
    "\n",
    "If one assumes that the recoil speed $v_{\\rm{recoil}}\\sim v_{\\rm{orb}}$, then the smallest $a=a_{\\rm{min}}$ is given by when $v_{\\rm{recoil}} = v_{\\rm{orb}} = v_{\\rm{esc}}$, where, $v_{\\rm{esc}}$ is the escape speed from the cluster. Since the inspiral time is the shortest for $a_{\\rm{min}}$ for a given $e$, we will simply use this as a characteristic $t_{\\rm{inspiral}}$ for a cluster. "
   ]
  },
  {
   "cell_type": "markdown",
   "metadata": {},
   "source": [
    "#### combine everything"
   ]
  },
  {
   "cell_type": "markdown",
   "metadata": {},
   "source": [
    "Below you can find scripts that can calculate all timescales. Essentially, clusters that have the lowest total time will dominate. "
   ]
  },
  {
   "cell_type": "code",
   "execution_count": 2,
   "metadata": {},
   "outputs": [],
   "source": [
    "import numpy as np\n",
    "import scipy\n",
    "import scipy.integrate\n",
    "\n",
    "constants = {'AU': 1.496e13,\n",
    "            'PC': 3.086e18,\n",
    "            'lightyear': 9.463e17,\n",
    "            'Msun': 1.99e33,\n",
    "            'Rsun': 6.96e10,\n",
    "            'Lsun': 3.9e33,\n",
    "            'Tsun': 5.780e3,\n",
    "            'km': 1e5,\n",
    "            'yr': 31556925.9936,\n",
    "            'G': 6.67259e-8\n",
    "            }\n",
    "import numpy as np\n",
    "\n",
    "def v_esc(M, b=1.):\n",
    "    K = constants['G']*constants['Msun']/constants['PC']\n",
    "    vesc = (2.*K*(M/b))**0.5\n",
    "    return vesc\n",
    "\n",
    "def v_orb(m1, m2, a):\n",
    "    K = constants['G']*constants['Msun']/constants['AU']\n",
    "    vorb = (K*(m1+m2)/a)**0.5\n",
    "    return vorb\n",
    "\n",
    "def get_semimajor(m1, m2, vorb):\n",
    "    K = constants['G']*constants['Msun']/constants['AU']\n",
    "    a = K * (m1+m2)/vorb**2.\n",
    "    return a\n",
    "\n",
    "def inspiral_time_peters(a0,e0,m1,m2):\n",
    "    \"\"\"\n",
    "    Computes the inspiral time, in Gyr, for a binary\n",
    "    a0 in Au, and masses in solar masses\n",
    "    \"\"\"\n",
    "    coef = 6.086768e-11 #G^3 / c^5 in au, gigayear, solar mass units\n",
    "    beta = (64./5.) * coef * m1 * m2 * (m1+m2)\n",
    "    if e0 == 0:\n",
    "        return a0**4 / (4*beta)\n",
    "    c0 = a0 * (1.-e0**2.) * e0**(-12./19.) * (1.+(121./304.)*e0**2.)**(-870./2299.)\n",
    "    time_integrand = lambda e: e**(29./19.)*(1.+(121./304.)*e**2.)**(1181./2299.) / (1.-e**2.)**1.5\n",
    "    integral,abserr = scipy.integrate.quad(time_integrand,0,e0)\n",
    "    return integral * (12./19.) * c0**4. / beta\n",
    "\n",
    "\n",
    "def beta(m1,m2):\n",
    "    coef = 6.086768e-11 #G^3 / c^5 in au, gigayear, solar mass units\t\n",
    "    #coef =  6.086768e-20 #G^3 / c^5 in au, year, solar mass units\t\n",
    "    G = 3.96511851e-14 #G in au, solar mass, second units \n",
    "    return (64./5.) * coef * m1 * m2 * (m1+m2)\n",
    "\n",
    "def c0(a0,e0):\n",
    "    return a0 * (1.-e0**2.) * e0**(-12./19.) * (1.+(121./304.)*e0**2.)**(-870./2299.)\n",
    "\n",
    "def time_integrand(e):\n",
    "    return e**(29./19.)*(1.+(121./304.)*e**2.)**(1181./2299.) / (1.-e**2.)**1.5\n",
    "    \n",
    "\n",
    "def vsigma(M, b=1., x=0.5):\n",
    "    x23 = x**(2./3.)\n",
    "    rx_by_b = (x23/(1-x23))**0.5\n",
    "    K = constants['G']*constants['Msun']/constants['PC']\n",
    "    sigma = K*0.5*M*(1+rx_by_b**2.)**(-0.5)\n",
    "    sigma = sigma**0.5\n",
    "    return sigma\n",
    "\n",
    "def ave_vsigma(M, b=1., x=0.5):\n",
    "    x23 = x**(2./3.)\n",
    "    rx_by_b = (x23/(1-x23))**0.5\n",
    "    K = constants['G']*constants['Msun']/constants['PC']\n",
    "    ave_v = np.arctan(rx_by_b/8.) + (rx_by_b**3. - rx_by_b)/(8*rx_by_b**4. + 16.*rx_by_b**2 + 8)\n",
    "    ave_v = ave_v * 1.5 * K * M/b\n",
    "    ave_v = ave_v**0.5\n",
    "    return ave_v\n",
    "\n",
    "def t_dyn(M, b=1., x=0.5):\n",
    "    x23 = x**(2./3.)\n",
    "    rx = b * ((x23/(1-x23))**0.5)\n",
    "    ave_v = ave_vsigma(M, b=b, x=x)\n",
    "    t_dyn = rx*constants['PC']/ave_v\n",
    "    t_dyn = t_dyn/constants['yr']\n",
    "    return t_dyn\n",
    "\n",
    "def t_relax(M, b=1., mave=0.5, x=0.5):\n",
    "    \"\"\"\n",
    "        Input: cluster mass M in Msun\n",
    "                scale length b in pc\n",
    "                average stellar mass mave in Msun\n",
    "                BH mass mbh in Msun\n",
    "        Return: Relaxation timescale in Gyr\n",
    "    \"\"\"\n",
    "    N = M/mave\n",
    "    tdyn = t_dyn(M, b=b, x=x)\n",
    "    t = (N/(0.1*np.log(N))) * tdyn\n",
    "    t = t/1e9\n",
    "    return t\n",
    "\n",
    "def t_mass_segregation(M, b=1., mave=0.5, mbh=10., x=0.5):\n",
    "    \"\"\"\n",
    "        Input: cluster mass M in Msun\n",
    "                scale length b in pc\n",
    "                average stellar mass mave in Msun\n",
    "                BH mass mbh in Msun\n",
    "        Return: Mass segregation timescale in Gyr\n",
    "    \"\"\"\n",
    "    trelax = t_relax(M, b=b, mave=mave, x=0.5)\n",
    "    mratio = mave/mbh\n",
    "    tms = trelax * mratio\n",
    "    return tms\n",
    "\n",
    "def central_density(M, b=1.):\n",
    "    \"\"\"\n",
    "        Input: cluster mass M in Msun\n",
    "                scale length b in pc\n",
    "        Return: density at r<<b in Msun/pc^3\n",
    "    \"\"\"\n",
    "    rhoc = 3*M/(4.*np.pi*b**3)\n",
    "    return rhoc\n",
    "\n",
    "def central_vsigma(M, b=1.):\n",
    "    \"\"\"\n",
    "        Input: cluster mass M in Msun\n",
    "                scale length b in pc\n",
    "        Return: velocity dispersion at r<<b in km/s    \n",
    "    \"\"\"\n",
    "    K = constants['G']*constants['Msun']/constants['PC']\n",
    "    vsigmac = (K * M/(2.*b))**0.5\n",
    "    vsigmac = vsigmac*1e-5\n",
    "    return vsigmac\n",
    "\n",
    "def t_inspiral_vs_mass(M, b=1., e=2./3., m1=10., m2=10.):\n",
    "    vesc = v_esc(M, b=b)\n",
    "    a = get_semimajor(m1, m2, vesc)\n",
    "    tinsp = inspiral_time_peters(a,e,m1,m2)\n",
    "    return tinsp\n",
    "\n",
    "def semimajor_for_kT_binary(vinf, m=0.5, m1=10., m2=10., kt=1.):\n",
    "    \"\"\"\n",
    "        input: vinf:- is velocity at infinity in km/s\n",
    "                m:- mass of the incoming star\n",
    "                m1, m2:- masses of the binary components\n",
    "                kt:- how bound the binary is relative to the incoming star\n",
    "                    i.e., kt = Eb/(Ek), where Eb is the binary total energy, \n",
    "                    Ek is the kinetic energy of the incoming star\n",
    "        return: a:- semimajor axis of the binary in AU\n",
    "    \"\"\"\n",
    "    K = constants['G']*constants['Msun']/(constants['km']*constants['km']*constants['AU'])\n",
    "    a = (1./kt) * m1*m2*(m1+m2+m)/(m*(m1+m2)*vinf*vinf)\n",
    "    a = K*a\n",
    "    return a\n",
    "\n",
    "def cross_section(M, b=1., m=0.5, m1=10., m2=10., kt=1.):\n",
    "    vsigmac = central_vsigma(M, b=b) #km/s\n",
    "    a = semimajor_for_kT_binary(vsigmac, m=m, m1=m1, m2=m2, kt=kt)\n",
    "    #print (vsigmac, a)\n",
    "    K = constants['G']*constants['Msun']/(constants['AU']*constants['km']*constants['km'])\n",
    "    gf = 2.* K * (m1+m2+m) / (a*vsigmac*vsigmac)\n",
    "    crosssection = np.pi*a*a*(1.+gf) #pc^2\n",
    "    return crosssection\n",
    "    \n",
    "def Gamma_interaction(M, b=1., mave=0.5, m=0.5, m1=10., m2=10., kt=1.):\n",
    "    rhoc = central_density(M, b=b)\n",
    "    nc = rhoc/mave  #pc^{-3}\n",
    "    vsigmac = central_vsigma(M, b=b) #km/s\n",
    "    cross = cross_section(M, b=b, m=m, m1=m1, m2=m2, kt=kt)\n",
    "    K = constants['AU']*constants['AU']*constants['km']*constants['yr']*1e9/(constants['PC']**3.)\n",
    "    gamma = K*nc*cross*vsigmac #Gyr^-1\n",
    "    return gamma"
   ]
  },
  {
   "cell_type": "markdown",
   "metadata": {},
   "source": [
    "# Plotting"
   ]
  },
  {
   "cell_type": "markdown",
   "metadata": {},
   "source": [
    "Below we will plot the different timescales and the combined timescale to get an idea where dynamical formation of merging black hole binaries would be most efficient. "
   ]
  },
  {
   "cell_type": "code",
   "execution_count": 3,
   "metadata": {},
   "outputs": [
    {
     "name": "stdout",
     "output_type": "stream",
     "text": [
      "for characteristic e=2/3 : log(M/Msun) = 7\n"
     ]
    },
    {
     "data": {
      "image/png": "[encoded data removed]",
      "text/plain": [
       "<Figure size 432x288 with 1 Axes>"
      ]
     },
     "metadata": {
      "needs_background": "light"
     },
     "output_type": "display_data"
    }
   ],
   "source": [
    "import matplotlib.pyplot as plt\n",
    "%matplotlib inline\n",
    "\n",
    "b, mave, mbh, frac, ecc, kT = 1., 10., 0.5, 0.5, 2./3., 1.\n",
    "mass = np.arange(3., 10.1, 0.1)\n",
    "mass = 10**mass\n",
    "t_r = t_relax(mass, b=b, mave=mave, x=frac)\n",
    "t_ms = t_mass_segregation(mass, b=b, mave=mave, mbh=mbh, x=frac)\n",
    "t_insp = t_inspiral_vs_mass(mass, e=ecc)\n",
    "gamma = Gamma_interaction(mass, b=b, mave=mave, m=mave, m1=mbh, m2=mbh, kt=kT)\n",
    "t_interact = gamma**(-1)\n",
    "plt.plot(mass,t_ms, ls='dashed', lw=0.5, color='green', label='mass segregation')\n",
    "plt.plot(mass,t_insp, ls='dashed', lw=0.5, color='blue', label='inspiral')\n",
    "plt.plot(mass,t_interact, ls='dashed', lw=0.5, color='red', label='interaction')\n",
    "ttot = t_interact+t_insp+t_ms\n",
    "plt.plot(mass,ttot, ls='solid', lw=2, color='black', label='total')\n",
    "plt.xscale('log')\n",
    "plt.yscale('log')\n",
    "plt.xlim([1e3,1e10])\n",
    "plt.ylim([1,1e3])\n",
    "plt.xlabel(r'$M/M_\\odot$')\n",
    "plt.ylabel('timescales/Gyr')\n",
    "plt.legend(loc='best', numpoints=1, frameon=0)\n",
    "plt.title(\"Eccentricity=2./3.\")\n",
    "mmax = np.log10(mass[np.argsort(ttot)[0]])\n",
    "print(r'for characteristic e=2/3 : log(M/Msun) = %g' %(mmax,))"
   ]
  },
  {
   "cell_type": "code",
   "execution_count": 4,
   "metadata": {},
   "outputs": [
    {
     "name": "stdout",
     "output_type": "stream",
     "text": [
      "for characteristic e=2/3 : log(M/Msun) = 6.9\n"
     ]
    },
    {
     "data": {
      "image/png": "[encoded data removed]",
      "text/plain": [
       "<Figure size 432x288 with 1 Axes>"
      ]
     },
     "metadata": {
      "needs_background": "light"
     },
     "output_type": "display_data"
    }
   ],
   "source": [
    "b, mave, mbh, frac, ecc, kT = 1., 10., 0.5, 0.5, 2.5/3., 1.\n",
    "mass = np.arange(3., 10.1, 0.1)\n",
    "mass = 10**mass\n",
    "t_r = t_relax(mass, b=b, mave=mave, x=frac)\n",
    "t_ms = t_mass_segregation(mass, b=b, mave=mave, mbh=mbh, x=frac)\n",
    "t_insp = t_inspiral_vs_mass(mass, e=ecc)\n",
    "gamma = Gamma_interaction(mass, b=b, mave=mave, m=mave, m1=mbh, m2=mbh, kt=kT)\n",
    "t_interact = gamma**(-1)\n",
    "plt.plot(mass,t_ms, ls='dashed', lw=0.5, color='green', label='mass segregation')\n",
    "plt.plot(mass,t_insp, ls='dashed', lw=0.5, color='blue', label='inspiral')\n",
    "plt.plot(mass,t_interact, ls='dashed', lw=0.5, color='red', label='interaction')\n",
    "ttot = t_interact+t_insp+t_ms\n",
    "plt.plot(mass,ttot, ls='solid', lw=2, color='black', label='total')\n",
    "plt.xscale('log')\n",
    "plt.yscale('log')\n",
    "plt.xlim([1e3,1e10])\n",
    "plt.ylim([1,1e3])\n",
    "plt.xlabel(r'$M/M_\\odot$')\n",
    "plt.ylabel('timescales/Gyr')\n",
    "plt.legend(loc='best', numpoints=1, frameon=0)\n",
    "plt.title(\"Eccentricity=2.5/3.\")\n",
    "mmax = np.log10(mass[np.argsort(ttot)[0]])\n",
    "print(r'for characteristic e=2/3 : log(M/Msun) = %g' %(mmax,))"
   ]
  },
  {
   "cell_type": "code",
   "execution_count": 10,
   "metadata": {},
   "outputs": [
    {
     "name": "stdout",
     "output_type": "stream",
     "text": [
      "for characteristic e=2.9/3 : log(M/Msun) = 5.6\n"
     ]
    },
    {
     "data": {
      "image/png": "[encoded data removed]",
      "text/plain": [
       "<Figure size 432x288 with 1 Axes>"
      ]
     },
     "metadata": {
      "needs_background": "light"
     },
     "output_type": "display_data"
    }
   ],
   "source": [
    "b, mave, mbh, frac, ecc, kT = 1., 10., 0.5, 0.5, 2.99/3., 1.\n",
    "mass = np.arange(3., 10.1, 0.1)\n",
    "mass = 10**mass\n",
    "t_r = t_relax(mass, b=b, mave=mave, x=frac)\n",
    "t_ms = t_mass_segregation(mass, b=b, mave=mave, mbh=mbh, x=frac)\n",
    "t_insp = t_inspiral_vs_mass(mass, e=ecc)\n",
    "gamma = Gamma_interaction(mass, b=b, mave=mave, m=mave, m1=mbh, m2=mbh, kt=kT)\n",
    "t_interact = gamma**(-1)\n",
    "plt.plot(mass,t_ms, ls='dashed', lw=0.5, color='green', label='mass segregation')\n",
    "plt.plot(mass,t_insp, ls='dashed', lw=0.5, color='blue', label='inspiral')\n",
    "plt.plot(mass,t_interact, ls='dashed', lw=0.5, color='red', label='interaction')\n",
    "ttot = t_interact+t_insp+t_ms\n",
    "plt.plot(mass,ttot, ls='solid', lw=2, color='black', label='total')\n",
    "plt.xscale('log')\n",
    "plt.yscale('log')\n",
    "plt.xlim([1e3,1e10])\n",
    "plt.ylim([1,1e3])\n",
    "plt.xlabel(r'$M/M_\\odot$', fontsize=18)\n",
    "plt.ylabel('timescales/Gyr', fontsize=18)\n",
    "plt.legend(loc='best', numpoints=1, frameon=0, fontsize=12)\n",
    "#plt.title(\"Eccentricity=2.9/3.\")\n",
    "mmax = np.log10(mass[np.argsort(ttot)[0]])\n",
    "print(r'for characteristic e=2.9/3 : log(M/Msun) = %g' %(mmax,))\n",
    "plt.savefig('/Users/sourav/Downloads/test.pdf')"
   ]
  },
  {
   "cell_type": "code",
   "execution_count": 176,
   "metadata": {},
   "outputs": [
    {
     "name": "stdout",
     "output_type": "stream",
     "text": [
      "for characteristic e=2.99/3 : log(M/Msun) = 5.6\n"
     ]
    },
    {
     "data": {
      "image/png": "[encoded data removed]",
      "text/plain": [
       "<Figure size 432x288 with 1 Axes>"
      ]
     },
     "metadata": {
      "needs_background": "light"
     },
     "output_type": "display_data"
    }
   ],
   "source": [
    "b, mave, mbh, frac, ecc, kT = 1., 10., 0.5, 0.5, 2.99/3., 1.\n",
    "mass = np.arange(3., 10.1, 0.1)\n",
    "mass = 10**mass\n",
    "t_r = t_relax(mass, b=b, mave=mave, x=frac)\n",
    "t_ms = t_mass_segregation(mass, b=b, mave=mave, mbh=mbh, x=frac)\n",
    "t_insp = t_inspiral_vs_mass(mass, e=ecc)\n",
    "gamma = Gamma_interaction(mass, b=b, mave=mave, m=mave, m1=mbh, m2=mbh, kt=kT)\n",
    "t_interact = gamma**(-1)\n",
    "plt.plot(mass,t_ms, ls='dashed', lw=0.5, color='green', label='mass segregation')\n",
    "plt.plot(mass,t_insp, ls='dashed', lw=0.5, color='blue', label='inspiral')\n",
    "plt.plot(mass,t_interact, ls='dashed', lw=0.5, color='red', label='interaction')\n",
    "ttot = t_interact+t_insp+t_ms\n",
    "plt.plot(mass,ttot, ls='solid', lw=2, color='black', label='total')\n",
    "plt.xscale('log')\n",
    "plt.yscale('log')\n",
    "plt.xlim([1e3,1e10])\n",
    "plt.ylim([1,1e3])\n",
    "plt.xlabel(r'$M/M_\\odot$')\n",
    "plt.ylabel('timescales/Gyr')\n",
    "plt.legend(loc='best', numpoints=1, frameon=0)\n",
    "plt.title(\"Eccentricity=2.99/3.\")\n",
    "mmax = np.log10(mass[np.argsort(ttot)[0]])\n",
    "print(r'for characteristic e=2.99/3 : log(M/Msun) = %g' %(mmax,))"
   ]
  },
  {
   "cell_type": "markdown",
   "metadata": {},
   "source": [
    "For the problem in the question, if we use $e=2/3$, most contribution comes from $M/M_\\odot \\sim 10^7$."
   ]
  },
  {
   "cell_type": "markdown",
   "metadata": {},
   "source": [
    "One clear thing to note is that the two timescales that dominate the physics is mass segregation and inspiral timescales. Usually, interaction timescale is too short to make any difference. Also note that the combined timescale is nowhere shorter than the Hubble time for $e=<e>=2/3$. This essentially means that mergers usually come from the highly eccentric part of the distribution where the inspiral timescale is significantly lower. This also tells you why clusters usually process the heaviest BHs first and then go down on mass."
   ]
  },
  {
   "cell_type": "markdown",
   "metadata": {},
   "source": [
    "A more rigorous way to do this would be to run Monte Carlo of binary semimajor axis and eccentricities drawn from distributions and then calculate the distribution of the combined timescales as above individually. Then one can obtain a distribution of merger timescales. One can choose the subset that has merger timescales below Hubble time and count the numbers. One can then plot the number of such mergers as a function of the total cluster mass. However, this is beyond the scope of this course and requires significant simulations. \n",
    "\n",
    "If interested, please read the following paper for a detailed semi-analytic analysis of the same problem based on numerical results. \n",
    "\n",
    "<a href=\"http://www.tifr.res.in/~sourav.c/assets/AAII/HW/Choksi_2019_ApJ_873_100.pdf\">The Star Clusters That Make Black Hole Binaries across Cosmic Time</a>"
   ]
  }
 ],
 "metadata": {
  "kernelspec": {
   "display_name": "Python 3",
   "language": "python",
   "name": "python3"
  },
  "language_info": {
   "codemirror_mode": {
    "name": "ipython",
    "version": 3
   },
   "file_extension": ".py",
   "mimetype": "text/x-python",
   "name": "python",
   "nbconvert_exporter": "python",
   "pygments_lexer": "ipython3",
   "version": "3.6.8"
  }
 },
 "nbformat": 4,
 "nbformat_minor": 2
}
